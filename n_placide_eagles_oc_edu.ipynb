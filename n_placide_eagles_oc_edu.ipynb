{
  "cells": [
    {
      "cell_type": "markdown",
      "metadata": {
        "id": "view-in-github",
        "colab_type": "text"
      },
      "source": [
        "<a href=\"https://colab.research.google.com/github/Placide250/NLP/blob/main/n_placide_eagles_oc_edu.ipynb\" target=\"_parent\"><img src=\"https://colab.research.google.com/assets/colab-badge.svg\" alt=\"Open In Colab\"/></a>"
      ]
    },
    {
      "cell_type": "markdown",
      "id": "67d9cbf8",
      "metadata": {
        "id": "67d9cbf8"
      },
      "source": [
        "OPTIONAL: To test your solution against a subset of our test cases, you can [install the `otter` library](https://otter-grader.readthedocs.io/en/latest/index.html#installation) in your local python environment with your choice of the commands below and run the next cell:\n",
        "```\n",
        "pipx install otter-grader\n",
        "# or\n",
        "pip install otter-grader\n",
        "```"
      ]
    },
    {
      "cell_type": "code",
      "source": [
        "install.packages(\"ottr\")"
      ],
      "metadata": {
        "colab": {
          "base_uri": "https://localhost:8080/",
          "height": 144
        },
        "id": "gT-Jqs4HeYv4",
        "outputId": "83d0542d-a454-451c-9e54-50942b4afd39"
      },
      "id": "gT-Jqs4HeYv4",
      "execution_count": 1,
      "outputs": [
        {
          "output_type": "error",
          "ename": "NameError",
          "evalue": "name 'install' is not defined",
          "traceback": [
            "\u001b[0;31m---------------------------------------------------------------------------\u001b[0m",
            "\u001b[0;31mNameError\u001b[0m                                 Traceback (most recent call last)",
            "\u001b[0;32m/tmp/ipython-input-3783777775.py\u001b[0m in \u001b[0;36m<cell line: 0>\u001b[0;34m()\u001b[0m\n\u001b[0;32m----> 1\u001b[0;31m \u001b[0minstall\u001b[0m\u001b[0;34m.\u001b[0m\u001b[0mpackages\u001b[0m\u001b[0;34m(\u001b[0m\u001b[0;34m\"ottr\"\u001b[0m\u001b[0;34m)\u001b[0m\u001b[0;34m\u001b[0m\u001b[0;34m\u001b[0m\u001b[0m\n\u001b[0m",
            "\u001b[0;31mNameError\u001b[0m: name 'install' is not defined"
          ]
        }
      ]
    },
    {
      "cell_type": "code",
      "execution_count": null,
      "id": "d0453a8d",
      "metadata": {
        "deletable": false,
        "editable": false,
        "id": "d0453a8d"
      },
      "outputs": [],
      "source": [
        "# Initialize Otter\n",
        "import otter\n",
        "grader = otter.Notebook(\"shot_finder.ipynb\")\n",
        "# NOTE: If you change the name of this file, you will also need to update the line above to use Otter to test your solution."
      ]
    },
    {
      "cell_type": "markdown",
      "id": "4c4d9d89",
      "metadata": {
        "deletable": false,
        "editable": false,
        "id": "4c4d9d89"
      },
      "source": [
        "**Question:** Given a list of shot dictionaries, implement `find_faulty_shots` to return a list of unique shotIDs for shots labeled incorrectly, in order of most recent to oldest.\n",
        "\n",
        "Each shot dictionary contains the following fields:\n",
        "- shotID: str\n",
        "- period: int\n",
        "- shotClockSeconds: float\n",
        "- gameClockSeconds: float\n",
        "- fg2Attempted: int\n",
        "- fg2Made: int\n",
        "- fg3Attempted: int\n",
        "- fg3Made: int\n",
        "- ftAttempted: int\n",
        "- ftMade: int\n",
        "- points: int\n",
        "\n",
        "All field values are guaranteed to be correct except for shotClockSeconds, gameClockSeconds, and points.\n",
        "\n",
        "A shot is labeled incorrectly if any of the following are true:\n",
        "- It has an invalid shot clock value.\n",
        "- It has an invalid game clock value. Note that gameClockSeconds represents the number of seconds remaining in the current period. A period value of 1-4 represents regulation and a period value of 5 or more represents overtime.\n",
        "- It has an invalid points value, relative to the points expected based on shot type/zone, whether the shot was made, and the inclusion of free throws.\n",
        "\n",
        "Each shotID is structured as MMDDYYYY_GG_FFFFFFFF, where:\n",
        "- MMDDYYYY = date of the game\n",
        "- GG = order in which the game was played relative to other games that day (e.g. 01, 02). You can assume that 02 starts after 01 finishes.\n",
        "- FFFFFFFF = frame number of the shot within that game, left-padded to 8 digits (e.g. 00000001 for the first shot).\n",
        "\n",
        "You may assume standard NBA rules for the shot clock, game clock, and point values."
      ]
    },
    {
      "cell_type": "code",
      "execution_count": null,
      "id": "5404ddca",
      "metadata": {
        "tags": [
          "otter_answer_cell"
        ],
        "id": "5404ddca"
      },
      "outputs": [],
      "source": [
        "from datetime import datetime\n",
        "# DO NOT IMPORT ANY ADDITIONAL LIBRARIES\n",
        "\n",
        "def find_faulty_shots(shots_array: list[dict]) -> list[str]:\n",
        "\t# Replace the line below with your code\n",
        "    ..."
      ]
    },
    {
      "cell_type": "markdown",
      "id": "15a8cf19",
      "metadata": {
        "deletable": false,
        "editable": false,
        "id": "15a8cf19"
      },
      "source": [
        "The cell below will run a subset of our tests using the `grader` generated in the cells above your implementation, but it will only work if you've installed the `otter` library."
      ]
    },
    {
      "cell_type": "code",
      "execution_count": null,
      "id": "4ed1a750",
      "metadata": {
        "deletable": false,
        "editable": false,
        "id": "4ed1a750"
      },
      "outputs": [],
      "source": [
        "grader.check(\"q1\")"
      ]
    },
    {
      "cell_type": "markdown",
      "metadata": {
        "id": "f6c5be34"
      },
      "source": [
        "# Task\n",
        "Identify and list the unique `shotID`s of faulty shots from the provided list of shots, sorted in descending order by date. A shot is considered faulty if it violates standard NBA rules regarding shot clock, game clock, or point values."
      ],
      "id": "f6c5be34"
    },
    {
      "cell_type": "markdown",
      "metadata": {
        "id": "c5053a4d"
      },
      "source": [
        "## Understand shot rules\n",
        "\n",
        "### Subtask:\n",
        "Review the provided information about valid shot clock, game clock, and point values based on standard NBA rules.\n"
      ],
      "id": "c5053a4d"
    },
    {
      "cell_type": "markdown",
      "metadata": {
        "id": "2739d040"
      },
      "source": [
        "## Define validation functions\n",
        "\n",
        "### Subtask:\n",
        "Create helper functions to validate each aspect of a shot: shot clock, game clock, and points.\n"
      ],
      "id": "2739d040"
    },
    {
      "cell_type": "markdown",
      "metadata": {
        "id": "e10d597d"
      },
      "source": [
        "**Reasoning**:\n",
        "Define the helper functions to validate shot clock, game clock, and points based on standard NBA rules.\n",
        "\n"
      ],
      "id": "e10d597d"
    },
    {
      "cell_type": "code",
      "metadata": {
        "id": "c00c45b7"
      },
      "source": [
        "def is_valid_shot_clock(shotClockSeconds: float) -> bool:\n",
        "    \"\"\"Validates the shot clock value.\"\"\"\n",
        "    return 0.0 <= shotClockSeconds <= 24.0\n",
        "\n",
        "def is_valid_game_clock(period: int, gameClockSeconds: float) -> bool:\n",
        "    \"\"\"Validates the game clock value based on period type.\"\"\"\n",
        "    if period >= 1 and period <= 4:  # Regulation periods (12 minutes)\n",
        "        return 0.0 <= gameClockSeconds <= 12 * 60\n",
        "    elif period >= 5:  # Overtime periods (5 minutes)\n",
        "        return 0.0 <= gameClockSeconds <= 5 * 60\n",
        "    return False # Invalid period\n",
        "\n",
        "def is_valid_points(fg2Attempted: int, fg2Made: int, fg3Attempted: int, fg3Made: int, ftAttempted: int, ftMade: int, points: int) -> bool:\n",
        "    \"\"\"Validates the points value based on shot and free throw attempts and makes.\"\"\"\n",
        "    expected_points = (fg2Made * 2) + (fg3Made * 3) + (ftMade * 1)\n",
        "    return points == expected_points"
      ],
      "id": "c00c45b7",
      "execution_count": 2,
      "outputs": []
    },
    {
      "cell_type": "markdown",
      "metadata": {
        "id": "a9cfd7ec"
      },
      "source": [
        "## Iterate through shots\n",
        "\n",
        "### Subtask:\n",
        "Loop through the input list of shot dictionaries.\n"
      ],
      "id": "a9cfd7ec"
    },
    {
      "cell_type": "markdown",
      "metadata": {
        "id": "31b75ff0"
      },
      "source": [
        "**Reasoning**:\n",
        "Initialize an empty list and iterate through the input list of dictionaries as instructed.\n",
        "\n"
      ],
      "id": "31b75ff0"
    },
    {
      "cell_type": "code",
      "metadata": {
        "colab": {
          "base_uri": "https://localhost:8080/",
          "height": 198
        },
        "id": "38722433",
        "outputId": "ea1a3c2f-eb6d-4a00-edd8-53a0a0cc8648"
      },
      "source": [
        "faulty_shot_ids = []\n",
        "for shot in shots_array:\n",
        "    # The logic to check for faulty shots will be added in the next step\n",
        "    pass"
      ],
      "id": "38722433",
      "execution_count": 3,
      "outputs": [
        {
          "output_type": "error",
          "ename": "NameError",
          "evalue": "name 'shots_array' is not defined",
          "traceback": [
            "\u001b[0;31m---------------------------------------------------------------------------\u001b[0m",
            "\u001b[0;31mNameError\u001b[0m                                 Traceback (most recent call last)",
            "\u001b[0;32m/tmp/ipython-input-2106246954.py\u001b[0m in \u001b[0;36m<cell line: 0>\u001b[0;34m()\u001b[0m\n\u001b[1;32m      1\u001b[0m \u001b[0mfaulty_shot_ids\u001b[0m \u001b[0;34m=\u001b[0m \u001b[0;34m[\u001b[0m\u001b[0;34m]\u001b[0m\u001b[0;34m\u001b[0m\u001b[0;34m\u001b[0m\u001b[0m\n\u001b[0;32m----> 2\u001b[0;31m \u001b[0;32mfor\u001b[0m \u001b[0mshot\u001b[0m \u001b[0;32min\u001b[0m \u001b[0mshots_array\u001b[0m\u001b[0;34m:\u001b[0m\u001b[0;34m\u001b[0m\u001b[0;34m\u001b[0m\u001b[0m\n\u001b[0m\u001b[1;32m      3\u001b[0m     \u001b[0;31m# The logic to check for faulty shots will be added in the next step\u001b[0m\u001b[0;34m\u001b[0m\u001b[0;34m\u001b[0m\u001b[0m\n\u001b[1;32m      4\u001b[0m     \u001b[0;32mpass\u001b[0m\u001b[0;34m\u001b[0m\u001b[0;34m\u001b[0m\u001b[0m\n",
            "\u001b[0;31mNameError\u001b[0m: name 'shots_array' is not defined"
          ]
        }
      ]
    },
    {
      "cell_type": "markdown",
      "metadata": {
        "id": "6052281b"
      },
      "source": [
        "**Reasoning**:\n",
        "The error indicates that `shots_array` is not defined. This is because the function `find_faulty_shots` takes `shots_array` as an argument, but the code is being executed outside the function scope. The next step should be to put the initialization and iteration inside the function definition.\n",
        "\n"
      ],
      "id": "6052281b"
    },
    {
      "cell_type": "code",
      "metadata": {
        "id": "PTfBH5Qxe7Oh"
      },
      "source": [
        "from datetime import datetime\n",
        "# DO NOT IMPORT ANY ADDITIONAL LIBRARIES\n",
        "\n",
        "def find_faulty_shots(shots_array: list[dict]) -> list[str]:\n",
        "    \"\"\"Finds unique shot IDs of incorrectly labeled shots, sorted by date.\"\"\"\n",
        "    faulty_shot_ids = []\n",
        "    for shot in shots_array:\n",
        "        # The logic to check for faulty shots will be added in the next step\n",
        "        pass\n",
        "    # The sorting logic will be added in a later step\n",
        "    return faulty_shot_ids"
      ],
      "id": "PTfBH5Qxe7Oh",
      "execution_count": 4,
      "outputs": []
    },
    {
      "cell_type": "markdown",
      "metadata": {
        "id": "d4fc6f91"
      },
      "source": [
        "## Identify faulty shots\n",
        "\n",
        "### Subtask:\n",
        "For each shot, use the validation functions to check if it's faulty. If it is, add its `shotID` to a list of faulty shot IDs.\n"
      ],
      "id": "d4fc6f91"
    },
    {
      "cell_type": "markdown",
      "metadata": {
        "id": "46962f68"
      },
      "source": [
        "**Reasoning**:\n",
        "Implement the logic inside the loop to check for faulty shots using the validation functions and append the shotID if faulty.\n",
        "\n"
      ],
      "id": "46962f68"
    },
    {
      "cell_type": "code",
      "metadata": {
        "id": "7e7ecb6a"
      },
      "source": [
        "def find_faulty_shots(shots_array: list[dict]) -> list[str]:\n",
        "    \"\"\"Finds unique shot IDs of incorrectly labeled shots, sorted by date.\"\"\"\n",
        "    faulty_shot_ids = []\n",
        "    for shot in shots_array:\n",
        "        if not is_valid_shot_clock(shot['shotClockSeconds']) or \\\n",
        "           not is_valid_game_clock(shot['period'], shot['gameClockSeconds']) or \\\n",
        "           not is_valid_points(shot['fg2Attempted'], shot['fg2Made'], shot['fg3Attempted'], shot['fg3Made'], shot['ftAttempted'], shot['ftMade'], shot['points']):\n",
        "            faulty_shot_ids.append(shot['shotID'])\n",
        "    # The sorting logic will be added in a later step\n",
        "    return faulty_shot_ids"
      ],
      "id": "7e7ecb6a",
      "execution_count": 5,
      "outputs": []
    },
    {
      "cell_type": "markdown",
      "metadata": {
        "id": "d6dcead9"
      },
      "source": [
        "## Extract date from shotid\n",
        "\n",
        "### Subtask:\n",
        "Create a helper function to extract the date from a `shotID` string.\n"
      ],
      "id": "d6dcead9"
    },
    {
      "cell_type": "markdown",
      "metadata": {
        "id": "44fbbd01"
      },
      "source": [
        "**Reasoning**:\n",
        "Define the helper function `extract_date_from_shot_id` as instructed, which takes a shotID string, extracts the date part (first 8 characters), converts it to a datetime object, and returns it.\n",
        "\n"
      ],
      "id": "44fbbd01"
    },
    {
      "cell_type": "code",
      "metadata": {
        "id": "dcbd62c7"
      },
      "source": [
        "from datetime import datetime\n",
        "\n",
        "def extract_date_from_shot_id(shot_id: str) -> datetime:\n",
        "    \"\"\"Extracts the date from a shotID string and returns a datetime object.\"\"\"\n",
        "    date_str = shot_id[:8]  # Extract the first 8 characters (MMDDYYYY)\n",
        "    return datetime.strptime(date_str, '%m%d%Y')"
      ],
      "id": "dcbd62c7",
      "execution_count": 6,
      "outputs": []
    },
    {
      "cell_type": "markdown",
      "metadata": {
        "id": "378cdff5"
      },
      "source": [
        "## Sort faulty shots\n",
        "\n",
        "### Subtask:\n",
        "Sort the list of faulty shot IDs in descending order based on the date extracted from the `shotID`.\n"
      ],
      "id": "378cdff5"
    },
    {
      "cell_type": "markdown",
      "metadata": {
        "id": "d5db0257"
      },
      "source": [
        "**Reasoning**:\n",
        "Sort the list of faulty shot IDs in descending order by date and ensure uniqueness.\n",
        "\n"
      ],
      "id": "d5db0257"
    },
    {
      "cell_type": "code",
      "metadata": {
        "id": "b9f2fc53"
      },
      "source": [
        "from datetime import datetime\n",
        "\n",
        "def find_faulty_shots(shots_array: list[dict]) -> list[str]:\n",
        "    \"\"\"Finds unique shot IDs of incorrectly labeled shots, sorted by date.\"\"\"\n",
        "    faulty_shot_ids = []\n",
        "    for shot in shots_array:\n",
        "        if not is_valid_shot_clock(shot['shotClockSeconds']) or \\\n",
        "           not is_valid_game_clock(shot['period'], shot['gameClockSeconds']) or \\\n",
        "           not is_valid_points(shot['fg2Attempted'], shot['fg2Made'], shot['fg3Attempted'], shot['fg3Made'], shot['ftAttempted'], shot['ftMade'], shot['points']):\n",
        "            faulty_shot_ids.append(shot['shotID'])\n",
        "\n",
        "    # Sort by date in descending order and ensure uniqueness\n",
        "    unique_faulty_shot_ids = sorted(list(set(faulty_shot_ids)), key=extract_date_from_shot_id, reverse=True)\n",
        "\n",
        "    return unique_faulty_shot_ids"
      ],
      "id": "b9f2fc53",
      "execution_count": 7,
      "outputs": []
    },
    {
      "cell_type": "markdown",
      "metadata": {
        "id": "5bde031e"
      },
      "source": [
        "## Return faulty shots\n",
        "\n",
        "### Subtask:\n",
        "Return the sorted list of unique faulty `shotID`s.\n"
      ],
      "id": "5bde031e"
    },
    {
      "cell_type": "markdown",
      "metadata": {
        "id": "66f3f6f0"
      },
      "source": [
        "## Summary:\n",
        "\n",
        "### Data Analysis Key Findings\n",
        "\n",
        "*   Helper functions were created to validate shot clock values (between 0.0 and 24.0 seconds), game clock values based on period type (0.0 to 12 minutes for periods 1-4, 0.0 to 5 minutes for periods 5+), and points values (calculated from made 2-point, 3-point, and free throw attempts).\n",
        "*   A function `find_faulty_shots` was developed to iterate through a list of shot dictionaries and identify shots that violate any of the defined validation rules.\n",
        "*   A helper function `extract_date_from_shot_id` was successfully implemented to parse the date from the first 8 characters of the `shotID` string in 'MMDDYYYY' format.\n",
        "*   The identified faulty shot IDs were sorted in descending order based on the date extracted from their `shotID`s, and duplicate IDs were removed to ensure a unique list.\n",
        "\n",
        "### Insights or Next Steps\n",
        "\n",
        "*   The current analysis identifies shots that are potentially faulty based on rule violations. Further investigation into the specific reasons for these violations could provide insights into data collection errors or unusual game events.\n"
      ],
      "id": "66f3f6f0"
    }
  ],
  "metadata": {
    "kernelspec": {
      "display_name": "Python 3 (ipykernel)",
      "language": "python",
      "name": "python3"
    },
    "otter": {
      "OK_FORMAT": true,
      "tests": {
        "q1": {
          "name": "q1",
          "points": null,
          "suites": [
            {
              "cases": [
                {
                  "code": ">>> def test_case_1():\n...     shot_data = [{'shotID': '10282024_05_00000120', 'period': 1, 'shotClockSeconds': 16.2, 'gameClockSeconds': 723, 'fg2Attempted': 1, 'fg2Made': 0, 'fg3Attempted': 0, 'fg3Made': 0, 'fgAttempted': 1, 'fgMade': 0, 'ftAttempted': 0, 'ftMade': 0, 'points': 0}, {'shotID': '10282024_04_00642880', 'period': 3, 'shotClockSeconds': 21, 'gameClockSeconds': 57, 'fg2Attempted': 0, 'fg2Made': 0, 'fg3Attempted': 1, 'fg3Made': 1, 'fgAttempted': 1, 'fgMade': 1, 'ftAttempted': 0, 'ftMade': 0, 'points': 3}]\n...     faulty_shots = find_faulty_shots(shot_data)\n...     assert faulty_shots == ['10282024_05_00000120']\n>>> test_case_1()\n",
                  "hidden": false,
                  "locked": false,
                  "points": 10
                },
                {
                  "code": ">>> def test_case_2():\n...     shot_data = [{'shotID': '11022024_01_00000088', 'period': 1, 'shotClockSeconds': 8, 'gameClockSeconds': -11, 'fg2Attempted': 0, 'fg2Made': 0, 'fg3Attempted': 1, 'fg3Made': 0, 'fgAttempted': 1, 'fgMade': 0, 'ftAttempted': 0, 'ftMade': 0, 'points': 0}, {'shotID': '11032024_01_00000168', 'period': 2, 'shotClockSeconds': 7, 'gameClockSeconds': 88, 'fg2Attempted': 0, 'fg2Made': 0, 'fg3Attempted': 0, 'fg3Made': 0, 'fgAttempted': 0, 'fgMade': 0, 'ftAttempted': 2, 'ftMade': 1, 'points': 1}]\n...     faulty_shots = find_faulty_shots(shot_data)\n...     assert faulty_shots == ['11022024_01_00000088']\n>>> test_case_2()\n",
                  "hidden": false,
                  "locked": false,
                  "points": 10
                },
                {
                  "code": ">>> def test_case_3():\n...     shot_data = [{'shotID': '11042024_01_00000328', 'period': 1, 'shotClockSeconds': 12, 'gameClockSeconds': 671, 'fg2Attempted': 0, 'fg2Made': 0, 'fg3Attempted': 1, 'fg3Made': 1, 'fgAttempted': 1, 'fgMade': 1, 'ftAttempted': 0, 'ftMade': 0, 'points': 3}, {'shotID': '11042024_01_00002416', 'period': 2, 'shotClockSeconds': 18, 'gameClockSeconds': 643, 'fg2Attempted': 0, 'fg2Made': 0, 'fg3Attempted': 1, 'fg3Made': 0, 'fgAttempted': 1, 'fgMade': 0, 'ftAttempted': 0, 'ftMade': 0, 'points': 3}, {'shotID': '11042024_01_00001640', 'period': 1, 'shotClockSeconds': 5, 'gameClockSeconds': 26, 'fg2Attempted': 1, 'fg2Made': 1, 'fg3Attempted': 0, 'fg3Made': 0, 'fgAttempted': 1, 'fgMade': 1, 'ftAttempted': 1, 'ftMade': 1, 'points': 2}]\n...     faulty_shots = find_faulty_shots(shot_data)\n...     assert faulty_shots == ['11042024_01_00002416', '11042024_01_00001640']\n>>> test_case_3()\n",
                  "hidden": false,
                  "locked": false,
                  "points": 10
                },
                {
                  "code": ">>> def test_case_4():\n...     shot_data = [{'shotID': '11062024_02_00160336', 'period': 4, 'shotClockSeconds': 12, 'gameClockSeconds': 671, 'fg2Attempted': 0, 'fg2Made': 0, 'fg3Attempted': 1, 'fg3Made': 1, 'fgAttempted': 1, 'fgMade': 1, 'ftAttempted': 1, 'ftMade': 1, 'points': 4}, {'shotID': '11072024_01_00002096', 'period': 1, 'shotClockSeconds': 27, 'gameClockSeconds': 133, 'fg2Attempted': 1, 'fg2Made': 0, 'fg3Attempted': 0, 'fg3Made': 0, 'fgAttempted': 1, 'fgMade': 0, 'ftAttempted': 0, 'ftMade': 0, 'points': 0}]\n...     faulty_shots = find_faulty_shots(shot_data)\n...     assert faulty_shots == ['11072024_01_00002096']\n>>> test_case_4()\n",
                  "hidden": false,
                  "locked": false,
                  "points": 10
                }
              ],
              "scored": true,
              "setup": "",
              "teardown": "",
              "type": "doctest"
            }
          ]
        }
      }
    },
    "colab": {
      "provenance": [],
      "include_colab_link": true
    }
  },
  "nbformat": 4,
  "nbformat_minor": 5
}